{
 "cells": [
  {
   "cell_type": "code",
   "execution_count": 1,
   "metadata": {},
   "outputs": [],
   "source": [
    "%matplotlib inline\n",
    "from gettext import install\n",
    "from matplotlib import style\n",
    "style.use('fivethirtyeight')\n",
    "import matplotlib.pyplot as plt\n"
   ]
  },
  {
   "cell_type": "code",
   "execution_count": 2,
   "metadata": {},
   "outputs": [],
   "source": [
    "import numpy as np\n",
    "import pandas as pd\n",
    "import datetime as dt\n"
   ]
  },
  {
   "cell_type": "markdown",
   "metadata": {},
   "source": [
    "# Reflect Tables into SQLAlchemy ORM"
   ]
  },
  {
   "cell_type": "code",
   "execution_count": 3,
   "metadata": {},
   "outputs": [],
   "source": [
    "# Python SQL toolkit and Object Relational Mapper\n",
    "import sqlalchemy\n",
    "from sqlalchemy.ext.automap import automap_base\n",
    "from sqlalchemy.orm import Session\n",
    "from sqlalchemy import create_engine, func, inspect"
   ]
  },
  {
   "cell_type": "code",
   "execution_count": 4,
   "metadata": {},
   "outputs": [],
   "source": [
    "# create engine to hawaii.sqlite\n",
    "engine = create_engine(\"sqlite:///Resources/hawaii.sqlite\")"
   ]
  },
  {
   "cell_type": "code",
   "execution_count": 5,
   "metadata": {},
   "outputs": [],
   "source": [
    "# reflect an existing database into a new model\n",
    "\n",
    "Base = automap_base()\n",
    "\n",
    "\n",
    "# reflect the tables\n",
    "\n",
    "Base = automap_base()\n",
    "Base.prepare(engine, reflect=True)\n"
   ]
  },
  {
   "cell_type": "code",
   "execution_count": 6,
   "metadata": {},
   "outputs": [
    {
     "data": {
      "text/plain": [
       "['measurement', 'station']"
      ]
     },
     "execution_count": 6,
     "metadata": {},
     "output_type": "execute_result"
    }
   ],
   "source": [
    "# View all of the classes that automap found\n",
    "\n",
    "Base.classes.keys()"
   ]
  },
  {
   "cell_type": "code",
   "execution_count": 7,
   "metadata": {},
   "outputs": [],
   "source": [
    "# Save references to each table\n",
    "\n",
    "Measurement = Base.classes.measurement\n",
    "\n",
    "Station = Base.classes.station\n"
   ]
  },
  {
   "cell_type": "code",
   "execution_count": 8,
   "metadata": {},
   "outputs": [],
   "source": [
    "# Create our session (link) from Python to the DB\n",
    "\n",
    "Session = Session(engine)"
   ]
  },
  {
   "cell_type": "code",
   "execution_count": 9,
   "metadata": {},
   "outputs": [],
   "source": [
    "\n",
    "\n",
    "\n",
    "inspector=inspect(engine)"
   ]
  },
  {
   "cell_type": "code",
   "execution_count": 10,
   "metadata": {},
   "outputs": [],
   "source": [
    "\n",
    "\n",
    "Station_data = engine.execute('SELECT * FROM Station')"
   ]
  },
  {
   "cell_type": "code",
   "execution_count": 11,
   "metadata": {},
   "outputs": [
    {
     "name": "stdout",
     "output_type": "stream",
     "text": [
      "['id', 'station', 'name', 'latitude', 'longitude', 'elevation']\n"
     ]
    }
   ],
   "source": [
    "print(Station_data.keys())"
   ]
  },
  {
   "cell_type": "code",
   "execution_count": 12,
   "metadata": {},
   "outputs": [
    {
     "data": {
      "text/plain": [
       "[(0, 'USC00519397', 'WAIKIKI 717.2, HI US', 21.2716, -157.8168, 0.914),\n",
       " (1, 'USC00513117', 'KANEOHE 838.1, HI US', 21.4234, -157.8015, 4.45),\n",
       " (2, 'USC00514830', 'KUALOA RANCH HEADQUARTERS 886.9, HI US', 21.5213, -157.8374, 2.133),\n",
       " (3, 'USC00517948', 'PEARL CITY, HI US', 21.3934, -157.9751, 3.627),\n",
       " (4, 'USC00518838', 'UPPER WAHIAWA 874.3, HI US', 21.4992, -158.0111, 93.447),\n",
       " (5, 'USC00519523', 'WAIMANALO EXPERIMENTAL FARM, HI US', 21.33556, -157.71139, 5.943),\n",
       " (6, 'USC00519281', 'WAIHEE 837.5, HI US', 21.45167, -157.84889, 10.027),\n",
       " (7, 'USC00511918', 'HONOLULU OBSERVATORY 702.2, HI US', 21.3152, -157.9992, 0.274),\n",
       " (8, 'USC00516128', 'MANOA LYON ARBO 785.2, HI US', 21.3331, -157.8025, 46.449)]"
      ]
     },
     "execution_count": 12,
     "metadata": {},
     "output_type": "execute_result"
    }
   ],
   "source": [
    "Station_data.fetchall()"
   ]
  },
  {
   "cell_type": "code",
   "execution_count": 13,
   "metadata": {},
   "outputs": [
    {
     "name": "stdout",
     "output_type": "stream",
     "text": [
      "id INTEGER\n",
      "station TEXT\n",
      "name TEXT\n",
      "latitude FLOAT\n",
      "longitude FLOAT\n",
      "elevation FLOAT\n"
     ]
    }
   ],
   "source": [
    "columns=inspector.get_columns('Station')\n",
    "for column in columns:\n",
    "    print(column['name'], column['type'])"
   ]
  },
  {
   "cell_type": "code",
   "execution_count": 14,
   "metadata": {},
   "outputs": [],
   "source": [
    "\n",
    "measurements=engine.execute('SELECT * FROM Measurement LIMIT 10')"
   ]
  },
  {
   "cell_type": "code",
   "execution_count": 15,
   "metadata": {},
   "outputs": [
    {
     "name": "stdout",
     "output_type": "stream",
     "text": [
      "['id', 'station', 'date', 'prcp', 'tobs']\n"
     ]
    }
   ],
   "source": [
    "print(measurements.keys())"
   ]
  },
  {
   "cell_type": "code",
   "execution_count": 16,
   "metadata": {},
   "outputs": [
    {
     "data": {
      "text/plain": [
       "[(0, 'USC00519397', '2010-01-01', 2.0, 18.3),\n",
       " (1, 'USC00519397', '2010-01-02', 0.0, 17.2),\n",
       " (2, 'USC00519397', '2010-01-03', 0.0, 23.3),\n",
       " (3, 'USC00519397', '2010-01-04', 0.0, 24.4),\n",
       " (4, 'USC00519397', '2010-01-06', None, 22.8),\n",
       " (5, 'USC00519397', '2010-01-07', 1.5, 21.1),\n",
       " (6, 'USC00519397', '2010-01-08', 0.0, 17.8),\n",
       " (7, 'USC00519397', '2010-01-09', 0.0, 20.0),\n",
       " (8, 'USC00519397', '2010-01-10', 0.0, 22.8),\n",
       " (9, 'USC00519397', '2010-01-11', 0.3, 17.8)]"
      ]
     },
     "execution_count": 16,
     "metadata": {},
     "output_type": "execute_result"
    }
   ],
   "source": [
    "measurements.fetchall()"
   ]
  },
  {
   "cell_type": "code",
   "execution_count": 17,
   "metadata": {},
   "outputs": [
    {
     "name": "stdout",
     "output_type": "stream",
     "text": [
      "id INTEGER\n",
      "station TEXT\n",
      "date TEXT\n",
      "prcp FLOAT\n",
      "tobs FLOAT\n"
     ]
    }
   ],
   "source": [
    "columns=inspector.get_columns('Measurement')\n",
    "for column in columns:\n",
    "    print(column['name'], column['type'])"
   ]
  },
  {
   "cell_type": "markdown",
   "metadata": {},
   "source": [
    "# Exploratory Precipitation Analysis"
   ]
  },
  {
   "cell_type": "code",
   "execution_count": 18,
   "metadata": {},
   "outputs": [
    {
     "data": {
      "text/plain": [
       "('2017-08-23')"
      ]
     },
     "execution_count": 18,
     "metadata": {},
     "output_type": "execute_result"
    }
   ],
   "source": [
    "# Find the most recent date in the data set.\n",
    "\n",
    "recent_date=(Session.query(Measurement.date)\n",
    "                    .order_by(Measurement.date.desc())\n",
    "                    .first())\n",
    "recent_date"
   ]
  },
  {
   "cell_type": "code",
   "execution_count": 19,
   "metadata": {},
   "outputs": [
    {
     "name": "stdout",
     "output_type": "stream",
     "text": [
      "Query Date: 2016-08-22\n"
     ]
    }
   ],
   "source": [
    "# Design a query to retrieve the last 12 months of precipitation data and plot the results. \n",
    "# Starting from the most recent data point in the database. \n",
    "\n",
    "# Calculate the date one year from the last date in data set.\n",
    "\n",
    "\n",
    "year_ago_date=dt.date(2017, 8, 23) - dt.timedelta(days=366)\n",
    "print('Query Date:', year_ago_date)\n",
    "\n",
    "\n"
   ]
  },
  {
   "cell_type": "code",
   "execution_count": 20,
   "metadata": {},
   "outputs": [
    {
     "data": {
      "text/html": [
       "<div>\n",
       "<style scoped>\n",
       "    .dataframe tbody tr th:only-of-type {\n",
       "        vertical-align: middle;\n",
       "    }\n",
       "\n",
       "    .dataframe tbody tr th {\n",
       "        vertical-align: top;\n",
       "    }\n",
       "\n",
       "    .dataframe thead th {\n",
       "        text-align: right;\n",
       "    }\n",
       "</style>\n",
       "<table border=\"1\" class=\"dataframe\">\n",
       "  <thead>\n",
       "    <tr style=\"text-align: right;\">\n",
       "      <th></th>\n",
       "      <th>prcp</th>\n",
       "    </tr>\n",
       "    <tr>\n",
       "      <th>date</th>\n",
       "      <th></th>\n",
       "    </tr>\n",
       "  </thead>\n",
       "  <tbody>\n",
       "    <tr>\n",
       "      <th>2016-08-23</th>\n",
       "      <td>45.5</td>\n",
       "    </tr>\n",
       "    <tr>\n",
       "      <th>2016-08-24</th>\n",
       "      <td>57.9</td>\n",
       "    </tr>\n",
       "    <tr>\n",
       "      <th>2016-08-25</th>\n",
       "      <td>5.3</td>\n",
       "    </tr>\n",
       "    <tr>\n",
       "      <th>2016-08-26</th>\n",
       "      <td>1.0</td>\n",
       "    </tr>\n",
       "    <tr>\n",
       "      <th>2016-08-27</th>\n",
       "      <td>4.6</td>\n",
       "    </tr>\n",
       "    <tr>\n",
       "      <th>2016-08-28</th>\n",
       "      <td>52.6</td>\n",
       "    </tr>\n",
       "    <tr>\n",
       "      <th>2016-08-29</th>\n",
       "      <td>22.9</td>\n",
       "    </tr>\n",
       "    <tr>\n",
       "      <th>2016-08-30</th>\n",
       "      <td>1.3</td>\n",
       "    </tr>\n",
       "    <tr>\n",
       "      <th>2016-08-31</th>\n",
       "      <td>62.5</td>\n",
       "    </tr>\n",
       "    <tr>\n",
       "      <th>2016-09-01</th>\n",
       "      <td>0.5</td>\n",
       "    </tr>\n",
       "  </tbody>\n",
       "</table>\n",
       "</div>"
      ],
      "text/plain": [
       "            prcp\n",
       "date            \n",
       "2016-08-23  45.5\n",
       "2016-08-24  57.9\n",
       "2016-08-25   5.3\n",
       "2016-08-26   1.0\n",
       "2016-08-27   4.6\n",
       "2016-08-28  52.6\n",
       "2016-08-29  22.9\n",
       "2016-08-30   1.3\n",
       "2016-08-31  62.5\n",
       "2016-09-01   0.5"
      ]
     },
     "execution_count": 20,
     "metadata": {},
     "output_type": "execute_result"
    }
   ],
   "source": [
    "\n",
    "# Perform a query to retrieve the data and precipitation scores\n",
    "\n",
    "\n",
    "\n",
    "# Save the query results as a Pandas DataFrame and set the index to the date column\n",
    "\n",
    "\n",
    "# Sort the dataframe by date\n",
    "\n",
    "\n",
    "# Use Pandas Plotting with Matplotlib to plot the data\n",
    "\n",
    "\n",
    "\n",
    "year_prcp=(Session.query(Measurement.date,func.max(Measurement.prcp))\n",
    "                  .filter(func.strftime('%Y-%m-%d',Measurement.date) > year_ago_date)\n",
    "                  .group_by(Measurement.date)\n",
    "                  .all())\n",
    "year_prcp\n",
    "\n",
    "prcp_df=pd.DataFrame(year_prcp, columns=['date', 'prcp'])\n",
    "prcp_df.set_index('date', inplace=True)\n",
    "prcp_df.head(10)\n",
    "\n",
    "\n"
   ]
  },
  {
   "cell_type": "code",
   "execution_count": 21,
   "metadata": {},
   "outputs": [
    {
     "data": {
      "text/html": [
       "<div>\n",
       "<style scoped>\n",
       "    .dataframe tbody tr th:only-of-type {\n",
       "        vertical-align: middle;\n",
       "    }\n",
       "\n",
       "    .dataframe tbody tr th {\n",
       "        vertical-align: top;\n",
       "    }\n",
       "\n",
       "    .dataframe thead th {\n",
       "        text-align: right;\n",
       "    }\n",
       "</style>\n",
       "<table border=\"1\" class=\"dataframe\">\n",
       "  <thead>\n",
       "    <tr style=\"text-align: right;\">\n",
       "      <th></th>\n",
       "      <th>prcp</th>\n",
       "    </tr>\n",
       "    <tr>\n",
       "      <th>date</th>\n",
       "      <th></th>\n",
       "    </tr>\n",
       "  </thead>\n",
       "  <tbody>\n",
       "    <tr>\n",
       "      <th>2016-08-23</th>\n",
       "      <td>45.5</td>\n",
       "    </tr>\n",
       "    <tr>\n",
       "      <th>2016-08-24</th>\n",
       "      <td>57.9</td>\n",
       "    </tr>\n",
       "    <tr>\n",
       "      <th>2016-08-25</th>\n",
       "      <td>5.3</td>\n",
       "    </tr>\n",
       "    <tr>\n",
       "      <th>2016-08-26</th>\n",
       "      <td>1.0</td>\n",
       "    </tr>\n",
       "    <tr>\n",
       "      <th>2016-08-27</th>\n",
       "      <td>4.6</td>\n",
       "    </tr>\n",
       "    <tr>\n",
       "      <th>...</th>\n",
       "      <td>...</td>\n",
       "    </tr>\n",
       "    <tr>\n",
       "      <th>2017-08-19</th>\n",
       "      <td>2.3</td>\n",
       "    </tr>\n",
       "    <tr>\n",
       "      <th>2017-08-20</th>\n",
       "      <td>0.3</td>\n",
       "    </tr>\n",
       "    <tr>\n",
       "      <th>2017-08-21</th>\n",
       "      <td>14.2</td>\n",
       "    </tr>\n",
       "    <tr>\n",
       "      <th>2017-08-22</th>\n",
       "      <td>12.7</td>\n",
       "    </tr>\n",
       "    <tr>\n",
       "      <th>2017-08-23</th>\n",
       "      <td>11.4</td>\n",
       "    </tr>\n",
       "  </tbody>\n",
       "</table>\n",
       "<p>366 rows × 1 columns</p>\n",
       "</div>"
      ],
      "text/plain": [
       "            prcp\n",
       "date            \n",
       "2016-08-23  45.5\n",
       "2016-08-24  57.9\n",
       "2016-08-25   5.3\n",
       "2016-08-26   1.0\n",
       "2016-08-27   4.6\n",
       "...          ...\n",
       "2017-08-19   2.3\n",
       "2017-08-20   0.3\n",
       "2017-08-21  14.2\n",
       "2017-08-22  12.7\n",
       "2017-08-23  11.4\n",
       "\n",
       "[366 rows x 1 columns]"
      ]
     },
     "execution_count": 21,
     "metadata": {},
     "output_type": "execute_result"
    }
   ],
   "source": [
    "prcp_df.sort_values('date')"
   ]
  },
  {
   "cell_type": "code",
   "execution_count": 22,
   "metadata": {},
   "outputs": [
    {
     "data": {
      "image/png": "[encoded data removed]",
      "text/plain": [
       "<Figure size 864x648 with 1 Axes>"
      ]
     },
     "metadata": {},
     "output_type": "display_data"
    }
   ],
   "source": [
    "plt.rcParams['figure.figsize']=(12,9)\n",
    "prcp_df.plot(linewidth=2,alpha=1,rot=0,\n",
    "             xticks=(0,60,120,180,240,300,365),\n",
    "             color='xkcd:deep aqua')\n",
    "\n",
    "\n",
    "plt.xlim(-5,370)\n",
    "plt.ylim(-0.4,7)\n",
    "plt.yticks(size=14)\n",
    "plt.xticks(fontsize=14)\n",
    "plt.legend('',frameon=False)\n",
    "plt.xlabel('Date',fontsize=16,color='black',labelpad=20)\n",
    "plt.ylabel('Precipitation (in)',fontsize=16,color='black',labelpad=20)\n",
    "plt.title('Daily Maximum Precipitation for One Year\\nHonolulu, Hawaii',fontsize=20,pad=40)\n",
    "\n",
    "plt.show()\n"
   ]
  },
  {
   "cell_type": "code",
   "execution_count": 23,
   "metadata": {},
   "outputs": [
    {
     "data": {
      "text/html": [
       "<div>\n",
       "<style scoped>\n",
       "    .dataframe tbody tr th:only-of-type {\n",
       "        vertical-align: middle;\n",
       "    }\n",
       "\n",
       "    .dataframe tbody tr th {\n",
       "        vertical-align: top;\n",
       "    }\n",
       "\n",
       "    .dataframe thead th {\n",
       "        text-align: right;\n",
       "    }\n",
       "</style>\n",
       "<table border=\"1\" class=\"dataframe\">\n",
       "  <thead>\n",
       "    <tr style=\"text-align: right;\">\n",
       "      <th></th>\n",
       "      <th>date</th>\n",
       "      <th>prcp</th>\n",
       "    </tr>\n",
       "  </thead>\n",
       "  <tbody>\n",
       "    <tr>\n",
       "      <th>0</th>\n",
       "      <td>2016-08-23</td>\n",
       "      <td>0.0</td>\n",
       "    </tr>\n",
       "    <tr>\n",
       "      <th>1</th>\n",
       "      <td>2016-08-24</td>\n",
       "      <td>2.0</td>\n",
       "    </tr>\n",
       "    <tr>\n",
       "      <th>2</th>\n",
       "      <td>2016-08-25</td>\n",
       "      <td>2.0</td>\n",
       "    </tr>\n",
       "    <tr>\n",
       "      <th>3</th>\n",
       "      <td>2016-08-26</td>\n",
       "      <td>0.0</td>\n",
       "    </tr>\n",
       "    <tr>\n",
       "      <th>4</th>\n",
       "      <td>2016-08-27</td>\n",
       "      <td>0.0</td>\n",
       "    </tr>\n",
       "    <tr>\n",
       "      <th>...</th>\n",
       "      <td>...</td>\n",
       "      <td>...</td>\n",
       "    </tr>\n",
       "    <tr>\n",
       "      <th>2223</th>\n",
       "      <td>2017-08-17</td>\n",
       "      <td>3.3</td>\n",
       "    </tr>\n",
       "    <tr>\n",
       "      <th>2225</th>\n",
       "      <td>2017-08-19</td>\n",
       "      <td>2.3</td>\n",
       "    </tr>\n",
       "    <tr>\n",
       "      <th>2227</th>\n",
       "      <td>2017-08-21</td>\n",
       "      <td>14.2</td>\n",
       "    </tr>\n",
       "    <tr>\n",
       "      <th>2228</th>\n",
       "      <td>2017-08-22</td>\n",
       "      <td>12.7</td>\n",
       "    </tr>\n",
       "    <tr>\n",
       "      <th>2229</th>\n",
       "      <td>2017-08-23</td>\n",
       "      <td>11.4</td>\n",
       "    </tr>\n",
       "  </tbody>\n",
       "</table>\n",
       "<p>2021 rows × 2 columns</p>\n",
       "</div>"
      ],
      "text/plain": [
       "            date  prcp\n",
       "0     2016-08-23   0.0\n",
       "1     2016-08-24   2.0\n",
       "2     2016-08-25   2.0\n",
       "3     2016-08-26   0.0\n",
       "4     2016-08-27   0.0\n",
       "...          ...   ...\n",
       "2223  2017-08-17   3.3\n",
       "2225  2017-08-19   2.3\n",
       "2227  2017-08-21  14.2\n",
       "2228  2017-08-22  12.7\n",
       "2229  2017-08-23  11.4\n",
       "\n",
       "[2021 rows x 2 columns]"
      ]
     },
     "execution_count": 23,
     "metadata": {},
     "output_type": "execute_result"
    }
   ],
   "source": [
    "\n",
    "year_prcp_stats=(Session.query(Measurement.date, Measurement.prcp)\n",
    "                        .filter(Measurement.date > year_ago_date)\n",
    "                        .all())\n",
    "\n",
    "year_prcp_stats\n",
    "\n",
    "year_prcp_stats_df=pd.DataFrame(year_prcp_stats, columns=['date', 'prcp'])\n",
    "year_prcp_stats_df\n",
    "year_prcp_stats_df.dropna()"
   ]
  },
  {
   "cell_type": "code",
   "execution_count": 24,
   "metadata": {},
   "outputs": [
    {
     "data": {
      "text/html": [
       "<div>\n",
       "<style scoped>\n",
       "    .dataframe tbody tr th:only-of-type {\n",
       "        vertical-align: middle;\n",
       "    }\n",
       "\n",
       "    .dataframe tbody tr th {\n",
       "        vertical-align: top;\n",
       "    }\n",
       "\n",
       "    .dataframe thead th {\n",
       "        text-align: right;\n",
       "    }\n",
       "</style>\n",
       "<table border=\"1\" class=\"dataframe\">\n",
       "  <thead>\n",
       "    <tr style=\"text-align: right;\">\n",
       "      <th></th>\n",
       "      <th>prcp</th>\n",
       "    </tr>\n",
       "  </thead>\n",
       "  <tbody>\n",
       "    <tr>\n",
       "      <th>count</th>\n",
       "      <td>2021.000000</td>\n",
       "    </tr>\n",
       "    <tr>\n",
       "      <th>mean</th>\n",
       "      <td>4.505888</td>\n",
       "    </tr>\n",
       "    <tr>\n",
       "      <th>std</th>\n",
       "      <td>11.713487</td>\n",
       "    </tr>\n",
       "    <tr>\n",
       "      <th>min</th>\n",
       "      <td>0.000000</td>\n",
       "    </tr>\n",
       "    <tr>\n",
       "      <th>25%</th>\n",
       "      <td>0.000000</td>\n",
       "    </tr>\n",
       "    <tr>\n",
       "      <th>50%</th>\n",
       "      <td>0.500000</td>\n",
       "    </tr>\n",
       "    <tr>\n",
       "      <th>75%</th>\n",
       "      <td>3.300000</td>\n",
       "    </tr>\n",
       "    <tr>\n",
       "      <th>max</th>\n",
       "      <td>170.200000</td>\n",
       "    </tr>\n",
       "  </tbody>\n",
       "</table>\n",
       "</div>"
      ],
      "text/plain": [
       "              prcp\n",
       "count  2021.000000\n",
       "mean      4.505888\n",
       "std      11.713487\n",
       "min       0.000000\n",
       "25%       0.000000\n",
       "50%       0.500000\n",
       "75%       3.300000\n",
       "max     170.200000"
      ]
     },
     "execution_count": 24,
     "metadata": {},
     "output_type": "execute_result"
    }
   ],
   "source": [
    "# Use Pandas to calcualte the summary statistics for the precipitation data\n",
    "\n",
    "year_prcp_stats_df.describe()\n"
   ]
  },
  {
   "cell_type": "markdown",
   "metadata": {},
   "source": [
    "# Exploratory Station Analysis"
   ]
  },
  {
   "cell_type": "code",
   "execution_count": 25,
   "metadata": {},
   "outputs": [
    {
     "name": "stdout",
     "output_type": "stream",
     "text": [
      "There are 9 stations at Honolulu, Hawaii.\n"
     ]
    }
   ],
   "source": [
    "total_stations=Session.query(Station).count()\n",
    "print(f'There are {total_stations} stations at Honolulu, Hawaii.')"
   ]
  },
  {
   "cell_type": "code",
   "execution_count": 26,
   "metadata": {},
   "outputs": [
    {
     "name": "stdout",
     "output_type": "stream",
     "text": [
      "There are [(9,)] stations at Honolulu, Hawaii.\n"
     ]
    }
   ],
   "source": [
    "# Design a query to calculate the total number stations in the dataset\n",
    "\n",
    "total_stations=Session.query(func.count(Station.station)).all()\n",
    "print(f'There are {total_stations} stations at Honolulu, Hawaii.')\n"
   ]
  },
  {
   "cell_type": "code",
   "execution_count": 27,
   "metadata": {},
   "outputs": [
    {
     "data": {
      "text/plain": [
       "[('USC00519281', 2772),\n",
       " ('USC00519397', 2724),\n",
       " ('USC00513117', 2709),\n",
       " ('USC00519523', 2669),\n",
       " ('USC00516128', 2612),\n",
       " ('USC00514830', 2202),\n",
       " ('USC00511918', 1979),\n",
       " ('USC00517948', 1372),\n",
       " ('USC00518838', 511)]"
      ]
     },
     "execution_count": 27,
     "metadata": {},
     "output_type": "execute_result"
    }
   ],
   "source": [
    "\n",
    "\n",
    "# Design a query to find the most active stations (i.e. what stations have the most rows?)\n",
    "# List the stations and the counts in descending order.\n",
    "\n",
    "\n",
    "\n",
    "\n",
    "\n",
    "active_station_results = Session.query(Measurement.station, func.count(Measurement.station)).\\\n",
    "            group_by(Measurement.station).\\\n",
    "            order_by(func.count(Measurement.station).desc()).all()\n",
    "\n",
    "active_station_results"
   ]
  },
  {
   "cell_type": "code",
   "execution_count": 28,
   "metadata": {},
   "outputs": [
    {
     "data": {
      "text/plain": [
       "[(11.7, 22.8321176470585, 29.4)]"
      ]
     },
     "execution_count": 28,
     "metadata": {},
     "output_type": "execute_result"
    }
   ],
   "source": [
    "# Using the most active station id from the previous query, calculate the lowest, highest, and average temperature.\n",
    "\n",
    "\n",
    "most_active_station_result= active_station_results[0][0]\n",
    "Session.query(func.min(Measurement.tobs), func.avg(Measurement.tobs), func.max(Measurement.tobs).\\\n",
    "                filter(Measurement.station == most_active_station_result)).all()"
   ]
  },
  {
   "cell_type": "code",
   "execution_count": 29,
   "metadata": {},
   "outputs": [
    {
     "data": {
      "text/plain": [
       "[('2016-08-23', 25.0),\n",
       " ('2016-08-24', 25.0),\n",
       " ('2016-08-25', 26.7),\n",
       " ('2016-08-26', 26.7),\n",
       " ('2016-08-27', 23.9),\n",
       " ('2016-08-28', 22.8),\n",
       " ('2016-08-29', 25.6),\n",
       " ('2016-08-30', 25.0),\n",
       " ('2016-08-31', 25.6),\n",
       " ('2016-09-01', 26.7),\n",
       " ('2016-09-02', 26.7),\n",
       " ('2016-09-03', 25.6),\n",
       " ('2016-09-04', 25.6),\n",
       " ('2016-09-05', 25.6),\n",
       " ('2016-09-06', 22.8),\n",
       " ('2016-09-07', 23.3),\n",
       " ('2016-09-08', 26.7),\n",
       " ('2016-09-09', 26.1),\n",
       " ('2016-09-10', 25.0),\n",
       " ('2016-09-11', 26.7),\n",
       " ('2016-09-12', 24.4),\n",
       " ('2016-09-13', 26.1),\n",
       " ('2016-09-14', 23.9),\n",
       " ('2016-09-15', 26.1),\n",
       " ('2016-09-16', 25.6),\n",
       " ('2016-09-17', 26.1),\n",
       " ('2016-09-18', 25.6),\n",
       " ('2016-09-19', 25.6),\n",
       " ('2016-09-20', 24.4),\n",
       " ('2016-09-21', 23.3),\n",
       " ('2016-09-22', 25.0),\n",
       " ('2016-09-23', 25.6),\n",
       " ('2016-09-24', 26.1),\n",
       " ('2016-09-25', 26.1),\n",
       " ('2016-09-26', 25.0),\n",
       " ('2016-09-27', 26.7),\n",
       " ('2016-09-28', 25.6),\n",
       " ('2016-09-29', 25.6),\n",
       " ('2016-09-30', 25.6),\n",
       " ('2016-10-01', 25.0),\n",
       " ('2016-10-02', 26.1),\n",
       " ('2016-10-03', 26.1),\n",
       " ('2016-10-04', 26.1),\n",
       " ('2016-10-05', 26.1),\n",
       " ('2016-10-06', 23.9),\n",
       " ('2016-10-07', 24.4),\n",
       " ('2016-10-08', 22.8),\n",
       " ('2016-10-09', 22.2),\n",
       " ('2016-10-10', 21.7),\n",
       " ('2016-10-11', 25.0),\n",
       " ('2016-10-12', 26.1),\n",
       " ('2016-10-13', 25.6),\n",
       " ('2016-10-14', 26.1),\n",
       " ('2016-10-15', 25.0),\n",
       " ('2016-10-16', 26.1),\n",
       " ('2016-10-17', 25.0),\n",
       " ('2016-10-18', 25.6),\n",
       " ('2016-10-19', 25.6),\n",
       " ('2016-10-20', 25.6),\n",
       " ('2016-10-21', 25.6),\n",
       " ('2016-10-22', 25.0),\n",
       " ('2016-10-23', 23.3),\n",
       " ('2016-10-24', 23.9),\n",
       " ('2016-10-25', 24.4),\n",
       " ('2016-10-26', 22.8),\n",
       " ('2016-10-27', 24.4),\n",
       " ('2016-10-28', 23.3),\n",
       " ('2016-10-29', 25.0),\n",
       " ('2016-10-30', 24.4),\n",
       " ('2016-10-31', 24.4),\n",
       " ('2016-11-01', 23.3),\n",
       " ('2016-11-02', 23.9),\n",
       " ('2016-11-03', 23.9),\n",
       " ('2016-11-04', 23.9),\n",
       " ('2016-11-05', 23.9),\n",
       " ('2016-11-06', 21.7),\n",
       " ('2016-11-07', 17.2),\n",
       " ('2016-11-08', 21.1),\n",
       " ('2016-11-09', 20.0),\n",
       " ('2016-11-10', 19.4),\n",
       " ('2016-11-11', 25.0),\n",
       " ('2016-11-12', 23.3),\n",
       " ('2016-11-13', 25.0),\n",
       " ('2016-11-14', 24.4),\n",
       " ('2016-11-15', 24.4),\n",
       " ('2016-11-16', 23.9),\n",
       " ('2016-11-17', 24.4),\n",
       " ('2016-11-18', 23.9),\n",
       " ('2016-11-19', 22.8),\n",
       " ('2016-11-20', 23.9),\n",
       " ('2016-11-21', 22.8),\n",
       " ('2016-11-22', 23.9),\n",
       " ('2016-11-23', 23.3),\n",
       " ('2016-11-24', 23.9),\n",
       " ('2016-11-25', 23.3),\n",
       " ('2016-11-26', 23.9),\n",
       " ('2016-11-27', 22.8),\n",
       " ('2016-11-28', 23.9),\n",
       " ('2016-11-29', 22.8),\n",
       " ('2016-11-30', 22.8),\n",
       " ('2016-12-01', 23.3),\n",
       " ('2016-12-02', 21.1),\n",
       " ('2016-12-03', 22.2),\n",
       " ('2016-12-04', 21.1),\n",
       " ('2016-12-05', 19.4),\n",
       " ('2016-12-06', 19.4),\n",
       " ('2016-12-07', 20.6),\n",
       " ('2016-12-08', 21.1),\n",
       " ('2016-12-09', 20.0),\n",
       " ('2016-12-10', 20.6),\n",
       " ('2016-12-11', 20.6),\n",
       " ('2016-12-12', 18.9),\n",
       " ('2016-12-13', 18.3),\n",
       " ('2016-12-14', 20.0),\n",
       " ('2016-12-15', 16.7),\n",
       " ('2016-12-16', 23.9),\n",
       " ('2016-12-17', 21.1),\n",
       " ('2016-12-18', 20.6),\n",
       " ('2016-12-19', 24.4),\n",
       " ('2016-12-20', 24.4),\n",
       " ('2016-12-21', 23.3),\n",
       " ('2016-12-22', 22.8),\n",
       " ('2016-12-23', 21.7),\n",
       " ('2016-12-24', 23.3),\n",
       " ('2016-12-25', 23.3),\n",
       " ('2016-12-26', 22.2),\n",
       " ('2016-12-27', 21.7),\n",
       " ('2016-12-28', 22.2),\n",
       " ('2016-12-29', 23.3),\n",
       " ('2016-12-30', 20.6),\n",
       " ('2016-12-31', 19.4),\n",
       " ('2017-01-01', 22.2),\n",
       " ('2017-01-02', 21.1),\n",
       " ('2017-01-03', 17.8),\n",
       " ('2017-01-04', 17.2),\n",
       " ('2017-01-05', 17.2),\n",
       " ('2017-01-06', 16.7),\n",
       " ('2017-01-07', 21.1),\n",
       " ('2017-01-08', 21.1),\n",
       " ('2017-01-09', 16.7),\n",
       " ('2017-01-10', 16.7),\n",
       " ('2017-01-11', 17.2),\n",
       " ('2017-01-12', 18.3),\n",
       " ('2017-01-13', 20.6),\n",
       " ('2017-01-14', 25.0),\n",
       " ('2017-01-15', 21.1),\n",
       " ('2017-01-16', 23.3),\n",
       " ('2017-01-17', 20.6),\n",
       " ('2017-01-18', 22.2),\n",
       " ('2017-01-19', 21.7),\n",
       " ('2017-01-20', 20.6),\n",
       " ('2017-01-21', 21.7),\n",
       " ('2017-01-22', 21.7),\n",
       " ('2017-01-23', 22.2),\n",
       " ('2017-01-24', 22.2),\n",
       " ('2017-01-25', 20.6),\n",
       " ('2017-01-26', 21.1),\n",
       " ('2017-01-27', 18.9),\n",
       " ('2017-01-28', 18.3),\n",
       " ('2017-01-29', 20.6),\n",
       " ('2017-01-30', 20.0),\n",
       " ('2017-01-31', 20.0),\n",
       " ('2017-02-01', 20.0),\n",
       " ('2017-02-02', 15.0),\n",
       " ('2017-02-03', 15.6),\n",
       " ('2017-02-04', 21.1),\n",
       " ('2017-02-05', 22.8),\n",
       " ('2017-02-06', 23.9),\n",
       " ('2017-02-07', 17.8),\n",
       " ('2017-02-08', 15.0),\n",
       " ('2017-02-09', 15.0),\n",
       " ('2017-02-10', 16.7),\n",
       " ('2017-02-11', 20.0),\n",
       " ('2017-02-12', 21.1),\n",
       " ('2017-02-13', 22.8),\n",
       " ('2017-02-14', 26.1),\n",
       " ('2017-02-15', 23.9),\n",
       " ('2017-02-16', 18.3),\n",
       " ('2017-02-17', 21.1),\n",
       " ('2017-02-18', 23.3),\n",
       " ('2017-02-19', 21.1),\n",
       " ('2017-02-20', 21.1),\n",
       " ('2017-02-21', 21.7),\n",
       " ('2017-02-22', 21.7),\n",
       " ('2017-02-23', 21.7),\n",
       " ('2017-02-24', 20.6),\n",
       " ('2017-02-25', 16.1),\n",
       " ('2017-02-26', 19.4),\n",
       " ('2017-02-27', 18.3),\n",
       " ('2017-02-28', 22.2),\n",
       " ('2017-03-01', 21.7),\n",
       " ('2017-03-02', 22.8),\n",
       " ('2017-03-03', 22.2),\n",
       " ('2017-03-04', 25.0),\n",
       " ('2017-03-05', 22.8),\n",
       " ('2017-03-06', 19.4),\n",
       " ('2017-03-07', 16.7),\n",
       " ('2017-03-08', 17.8),\n",
       " ('2017-03-09', 19.4),\n",
       " ('2017-03-10', 18.9),\n",
       " ('2017-03-11', 27.2),\n",
       " ('2017-03-12', 20.6),\n",
       " ('2017-03-13', 18.9),\n",
       " ('2017-03-14', 19.4),\n",
       " ('2017-03-15', 20.6),\n",
       " ('2017-03-16', 18.9),\n",
       " ('2017-03-17', 20.0),\n",
       " ('2017-03-18', 18.3),\n",
       " ('2017-03-19', 23.3),\n",
       " ('2017-03-20', 20.6),\n",
       " ('2017-03-21', 22.2),\n",
       " ('2017-03-22', 22.8),\n",
       " ('2017-03-23', 22.2),\n",
       " ('2017-03-24', 21.7),\n",
       " ('2017-03-25', 24.4),\n",
       " ('2017-03-26', 25.0),\n",
       " ('2017-03-27', 24.4),\n",
       " ('2017-03-28', 23.3),\n",
       " ('2017-03-29', 20.0),\n",
       " ('2017-03-30', 22.8),\n",
       " ('2017-03-31', 21.7),\n",
       " ('2017-04-01', 23.3),\n",
       " ('2017-04-02', 23.9),\n",
       " ('2017-04-03', 21.1),\n",
       " ('2017-04-04', 19.4),\n",
       " ('2017-04-05', 21.7),\n",
       " ('2017-04-06', 19.4),\n",
       " ('2017-04-07', 23.3),\n",
       " ('2017-04-08', 25.0),\n",
       " ('2017-04-09', 25.6),\n",
       " ('2017-04-10', 19.4),\n",
       " ('2017-04-11', 21.1),\n",
       " ('2017-04-12', 20.6),\n",
       " ('2017-04-13', 20.6),\n",
       " ('2017-04-14', 23.3),\n",
       " ('2017-04-15', 25.6),\n",
       " ('2017-04-16', 21.7),\n",
       " ('2017-04-17', 19.4),\n",
       " ('2017-04-18', 20.0),\n",
       " ('2017-04-19', 19.4),\n",
       " ('2017-04-20', 24.4),\n",
       " ('2017-04-21', 20.6),\n",
       " ('2017-04-22', 22.2),\n",
       " ('2017-04-23', 24.4),\n",
       " ('2017-04-24', 20.0),\n",
       " ('2017-04-25', 22.2),\n",
       " ('2017-04-26', 23.3),\n",
       " ('2017-04-27', 21.1),\n",
       " ('2017-04-28', 19.4),\n",
       " ('2017-04-29', 22.2),\n",
       " ('2017-04-30', 15.6),\n",
       " ('2017-05-01', 18.3),\n",
       " ('2017-05-02', 23.9),\n",
       " ('2017-05-03', 21.1),\n",
       " ('2017-05-04', 23.9),\n",
       " ('2017-05-05', 21.1),\n",
       " ('2017-05-06', 26.1),\n",
       " ('2017-05-07', 23.9),\n",
       " ('2017-05-08', 21.1),\n",
       " ('2017-05-09', 19.4),\n",
       " ('2017-05-10', 23.3),\n",
       " ('2017-05-11', 21.1),\n",
       " ('2017-05-12', 23.9),\n",
       " ('2017-05-13', 24.4),\n",
       " ('2017-05-14', 25.0),\n",
       " ('2017-05-15', 23.3),\n",
       " ('2017-05-16', 23.3),\n",
       " ('2017-05-17', 23.3),\n",
       " ('2017-05-18', 20.6),\n",
       " ('2017-05-19', 20.0),\n",
       " ('2017-05-20', 24.4),\n",
       " ('2017-05-21', 23.3),\n",
       " ('2017-05-22', 21.7),\n",
       " ('2017-05-23', 21.7),\n",
       " ('2017-05-24', 23.3),\n",
       " ('2017-05-25', 23.3),\n",
       " ('2017-05-26', 23.3),\n",
       " ('2017-05-27', 23.3),\n",
       " ('2017-05-28', 26.7),\n",
       " ('2017-05-29', 23.3),\n",
       " ('2017-05-30', 22.2),\n",
       " ('2017-05-31', 23.9),\n",
       " ('2017-06-01', 26.7),\n",
       " ('2017-06-02', 24.4),\n",
       " ('2017-06-03', 24.4),\n",
       " ('2017-06-04', 25.0),\n",
       " ('2017-06-05', 23.9),\n",
       " ('2017-06-06', 23.9),\n",
       " ('2017-06-07', 23.9),\n",
       " ('2017-06-08', 23.9),\n",
       " ('2017-06-09', 22.2),\n",
       " ('2017-06-10', 23.3),\n",
       " ('2017-06-11', 23.3),\n",
       " ('2017-06-12', 23.3),\n",
       " ('2017-06-13', 24.4),\n",
       " ('2017-06-14', 23.3),\n",
       " ('2017-06-15', 23.9),\n",
       " ('2017-06-16', 22.8),\n",
       " ('2017-06-17', 26.1),\n",
       " ('2017-06-18', 23.9),\n",
       " ('2017-06-19', 22.2),\n",
       " ('2017-06-20', 22.2),\n",
       " ('2017-06-21', 23.3),\n",
       " ('2017-06-22', 22.2),\n",
       " ('2017-06-23', 22.2),\n",
       " ('2017-06-24', 25.0),\n",
       " ('2017-06-25', 21.7),\n",
       " ('2017-06-26', 22.8),\n",
       " ('2017-06-27', 24.4),\n",
       " ('2017-06-28', 25.0),\n",
       " ('2017-06-29', 24.4),\n",
       " ('2017-06-30', 24.4),\n",
       " ('2017-07-01', 26.1),\n",
       " ('2017-07-02', 27.2),\n",
       " ('2017-07-03', 24.4),\n",
       " ('2017-07-04', 25.6),\n",
       " ('2017-07-05', 25.0),\n",
       " ('2017-07-06', 23.3),\n",
       " ('2017-07-07', 23.9),\n",
       " ('2017-07-08', 25.6),\n",
       " ('2017-07-09', 25.6),\n",
       " ('2017-07-10', 20.6),\n",
       " ('2017-07-11', 22.2),\n",
       " ('2017-07-12', 23.3),\n",
       " ('2017-07-13', 23.3),\n",
       " ('2017-07-14', 24.4),\n",
       " ('2017-07-15', 26.7),\n",
       " ('2017-07-16', 26.7),\n",
       " ('2017-07-17', 24.4),\n",
       " ('2017-07-18', 24.4),\n",
       " ('2017-07-19', 24.4),\n",
       " ('2017-07-20', 25.0),\n",
       " ('2017-07-21', 25.0),\n",
       " ('2017-07-22', 25.0),\n",
       " ('2017-07-23', 27.8),\n",
       " ('2017-07-24', 23.9),\n",
       " ('2017-07-25', 25.0),\n",
       " ('2017-07-26', 23.9),\n",
       " ('2017-07-27', 24.4),\n",
       " ('2017-07-28', 27.2),\n",
       " ('2017-07-29', 27.8),\n",
       " ('2017-07-30', 27.2),\n",
       " ('2017-07-31', 24.4),\n",
       " ('2017-08-04', 25.0),\n",
       " ('2017-08-05', 27.8),\n",
       " ('2017-08-06', 28.3),\n",
       " ('2017-08-13', 25.0),\n",
       " ('2017-08-14', 25.0),\n",
       " ('2017-08-15', 25.0),\n",
       " ('2017-08-16', 24.4),\n",
       " ('2017-08-17', 24.4),\n",
       " ('2017-08-18', 26.1)]"
      ]
     },
     "execution_count": 29,
     "metadata": {},
     "output_type": "execute_result"
    }
   ],
   "source": [
    "# Choose the station with the highest number of temperature observations.\n",
    "# Query the last 12 months of temperature observation data for this station and plot the results as a histogram\n",
    "\n",
    "\n",
    "year_tobs=(Session.query(Measurement.date,(Measurement.tobs))\n",
    "                  .filter(func.strftime(Measurement.date) > year_ago_date)\n",
    "                  .filter(Measurement.station=='USC00519281')\n",
    "                  .all())\n",
    "year_tobs"
   ]
  },
  {
   "cell_type": "code",
   "execution_count": 30,
   "metadata": {},
   "outputs": [
    {
     "data": {
      "image/png": "[encoded data removed]",
      "text/plain": [
       "<Figure size 720x504 with 1 Axes>"
      ]
     },
     "metadata": {},
     "output_type": "display_data"
    }
   ],
   "source": [
    "tobs_df=pd.DataFrame(year_tobs)\n",
    "tobs_df.set_index('date',inplace=True)\n",
    "\n",
    "plt.rcParams['figure.figsize']=(10,7)\n",
    "plt.hist(tobs_df['tobs'],bins=12,alpha=0.6,edgecolor='xkcd:light gray',\n",
    "         linewidth=1,color='xkcd:deep aqua')\n",
    "\n",
    "plt.title('Temperature Observation Aug 2016 - Aug 2017\\nHonolulu, Hawaii',fontsize=20,pad=40)\n",
    "plt.xlabel('Temperature (F)',fontsize=16,color='black',labelpad=20)\n",
    "plt.ylabel('Frequency',fontsize=16,color='black',labelpad=20)\n",
    "plt.xticks(fontsize=12)\n",
    "plt.yticks(fontsize=12)\n",
    "plt.ylim(0,70)\n",
    "\n",
    "plt.show()"
   ]
  },
  {
   "cell_type": "markdown",
   "metadata": {},
   "source": [
    "# Close session"
   ]
  },
  {
   "cell_type": "code",
   "execution_count": 32,
   "metadata": {},
   "outputs": [],
   "source": [
    "# Close Session\n",
    "Session.close()"
   ]
  },
  {
   "cell_type": "code",
   "execution_count": null,
   "metadata": {},
   "outputs": [],
   "source": []
  }
 ],
 "metadata": {
  "anaconda-cloud": {},
  "kernel_info": {
   "name": "python3"
  },
  "kernelspec": {
   "display_name": "Python 3.6.10 ('PythonData')",
   "language": "python",
   "name": "python3"
  },
  "language_info": {
   "codemirror_mode": {
    "name": "ipython",
    "version": 3
   },
   "file_extension": ".py",
   "mimetype": "text/x-python",
   "name": "python",
   "nbconvert_exporter": "python",
   "pygments_lexer": "ipython3",
   "version": "3.6.10"
  },
  "nteract": {
   "version": "0.12.3"
  },
  "varInspector": {
   "cols": {
    "lenName": 16,
    "lenType": 16,
    "lenVar": 40
   },
   "kernels_config": {
    "python": {
     "delete_cmd_postfix": "",
     "delete_cmd_prefix": "del ",
     "library": "var_list.py",
     "varRefreshCmd": "print(var_dic_list())"
    },
    "r": {
     "delete_cmd_postfix": ") ",
     "delete_cmd_prefix": "rm(",
     "library": "var_list.r",
     "varRefreshCmd": "cat(var_dic_list()) "
    }
   },
   "types_to_exclude": [
    "module",
    "function",
    "builtin_function_or_method",
    "instance",
    "_Feature"
   ],
   "window_display": false
  },
  "vscode": {
   "interpreter": {
    "hash": "092a53274a4e9917e8a32e4072234d11c2864ab8a8a1f8f3463169b2680715c3"
   }
  }
 },
 "nbformat": 4,
 "nbformat_minor": 2
}
